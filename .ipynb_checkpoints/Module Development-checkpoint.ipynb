{
 "cells": [
  {
   "cell_type": "markdown",
   "metadata": {},
   "source": [
    "# ToDo\n",
    "- [x] Session-parallel mini-batch generation, where each session lengths is tracked\n",
    "- [ ] (Optional) Add input connections to multiple GRU layers\n",
    "- [ ] Make the Loss Function Compatible with the Session-parallel mini-batch generation step\n",
    "- [x] Output Sampling\n",
    "- [ ] Test Code(making predictions)\n",
    "- [ ] Check Loss Function\n",
    "- [ ] Check Optimizer\n",
    "- [ ] Check GRU layer"
   ]
  },
  {
   "cell_type": "code",
   "execution_count": 1,
   "metadata": {
    "ExecuteTime": {
     "end_time": "2018-02-04T14:36:09.887782Z",
     "start_time": "2018-02-04T14:36:02.252232Z"
    }
   },
   "outputs": [],
   "source": [
    "import pandas as pd\n",
    "import numpy as np\n",
    "from pathlib import Path\n",
    "\n",
    "dataset_root = Path('../sess-rec-large')\n",
    "train = 'rsc15_train_full.txt'\n",
    "test = 'rsc15_test.txt'\n",
    "PATH_TO_TRAIN = dataset_root / train\n",
    "PATH_TO_TEST = dataset_root / test\n",
    "\n",
    "df_train = pd.read_csv(PATH_TO_TRAIN, sep='\\t', dtype={'ItemId': np.int64})\n",
    "df_test = pd.read_csv(PATH_TO_TEST, sep='\\t', dtype={'ItemId': np.int64})"
   ]
  },
  {
   "cell_type": "code",
   "execution_count": null,
   "metadata": {
    "ExecuteTime": {
     "end_time": "2018-02-04T14:30:03.842724Z",
     "start_time": "2018-02-04T14:29:15.860794Z"
    },
    "code_folding": [
     40,
     135,
     159,
     179,
     192
    ]
   },
   "outputs": [],
   "source": [
    "from modules.train import GRU4REC\n",
    "import torch\n",
    "\n",
    "session_key = 'SessionId'\n",
    "time_key = 'Time'\n",
    "item_key = 'ItemId'\n",
    "\n",
    "input_size = df_train[item_key].nunique()\n",
    "output_size = input_size\n",
    "hidden_size = 100\n",
    "use_cuda = True\n",
    "\n",
    "torch.manual_seed(7)\n",
    "torch.cuda.manual_seed(7)\n",
    "\n",
    "model = GRU4REC(input_size, hidden_size, output_size,\n",
    "                dropout_input = 0, use_cuda = use_cuda,\n",
    "                loss_type = 'TOP1', optimizer_type = 'Adagrad', lr=.01)\n",
    "\n",
    "model.train(df_train, session_key, time_key, item_key, n_epochs = 10)"
   ]
  }
 ],
 "metadata": {
  "kernelspec": {
   "display_name": "Python 3",
   "language": "python",
   "name": "python3"
  },
  "language_info": {
   "codemirror_mode": {
    "name": "ipython",
    "version": 3
   },
   "file_extension": ".py",
   "mimetype": "text/x-python",
   "name": "python",
   "nbconvert_exporter": "python",
   "pygments_lexer": "ipython3",
   "version": "3.6.3"
  },
  "varInspector": {
   "cols": {
    "lenName": 16,
    "lenType": 16,
    "lenVar": 40
   },
   "kernels_config": {
    "python": {
     "delete_cmd_postfix": "",
     "delete_cmd_prefix": "del ",
     "library": "var_list.py",
     "varRefreshCmd": "print(var_dic_list())"
    },
    "r": {
     "delete_cmd_postfix": ") ",
     "delete_cmd_prefix": "rm(",
     "library": "var_list.r",
     "varRefreshCmd": "cat(var_dic_list()) "
    }
   },
   "position": {
    "height": "761px",
    "left": "1497px",
    "right": "20px",
    "top": "121px",
    "width": "354px"
   },
   "types_to_exclude": [
    "module",
    "function",
    "builtin_function_or_method",
    "instance",
    "_Feature"
   ],
   "window_display": false
  }
 },
 "nbformat": 4,
 "nbformat_minor": 2
}
