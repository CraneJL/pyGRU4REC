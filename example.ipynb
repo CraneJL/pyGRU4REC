{
 "cells": [
  {
   "cell_type": "markdown",
   "metadata": {},
   "source": [
    "# Load the Data"
   ]
  },
  {
   "cell_type": "code",
   "execution_count": 1,
   "metadata": {
    "ExecuteTime": {
     "end_time": "2018-02-27T05:27:34.495558Z",
     "start_time": "2018-02-27T05:27:25.358495Z"
    }
   },
   "outputs": [
    {
     "ename": "KeyboardInterrupt",
     "evalue": "",
     "output_type": "error",
     "traceback": [
      "\u001b[0;31m---------------------------------------------------------------------------\u001b[0m",
      "\u001b[0;31mKeyboardInterrupt\u001b[0m                         Traceback (most recent call last)",
      "\u001b[0;32m<ipython-input-1-b1ed993af104>\u001b[0m in \u001b[0;36m<module>\u001b[0;34m()\u001b[0m\n\u001b[1;32m     12\u001b[0m \u001b[0mPATH_TEST\u001b[0m \u001b[0;34m=\u001b[0m \u001b[0mPATH_DATA\u001b[0m \u001b[0;34m/\u001b[0m \u001b[0mtest\u001b[0m\u001b[0;34m\u001b[0m\u001b[0m\n\u001b[1;32m     13\u001b[0m \u001b[0;34m\u001b[0m\u001b[0m\n\u001b[0;32m---> 14\u001b[0;31m \u001b[0mdf_train\u001b[0m \u001b[0;34m=\u001b[0m \u001b[0mpd\u001b[0m\u001b[0;34m.\u001b[0m\u001b[0mread_csv\u001b[0m\u001b[0;34m(\u001b[0m\u001b[0mPATH_TRAIN\u001b[0m\u001b[0;34m,\u001b[0m \u001b[0msep\u001b[0m\u001b[0;34m=\u001b[0m\u001b[0;34m'\\t'\u001b[0m\u001b[0;34m,\u001b[0m \u001b[0mnames\u001b[0m\u001b[0;34m=\u001b[0m\u001b[0;34m[\u001b[0m\u001b[0;34m'SessionId'\u001b[0m\u001b[0;34m,\u001b[0m\u001b[0;34m'ItemId'\u001b[0m\u001b[0;34m,\u001b[0m\u001b[0;34m'TimeStamp'\u001b[0m\u001b[0;34m]\u001b[0m\u001b[0;34m)\u001b[0m\u001b[0;34m\u001b[0m\u001b[0m\n\u001b[0m\u001b[1;32m     15\u001b[0m \u001b[0mdf_test\u001b[0m \u001b[0;34m=\u001b[0m \u001b[0mpd\u001b[0m\u001b[0;34m.\u001b[0m\u001b[0mread_csv\u001b[0m\u001b[0;34m(\u001b[0m\u001b[0mPATH_TEST\u001b[0m\u001b[0;34m,\u001b[0m \u001b[0msep\u001b[0m\u001b[0;34m=\u001b[0m\u001b[0;34m'\\t'\u001b[0m\u001b[0;34m,\u001b[0m \u001b[0mnames\u001b[0m\u001b[0;34m=\u001b[0m\u001b[0;34m[\u001b[0m\u001b[0;34m'SessionId'\u001b[0m\u001b[0;34m,\u001b[0m\u001b[0;34m'ItemId'\u001b[0m\u001b[0;34m,\u001b[0m \u001b[0;34m'TimeStamp'\u001b[0m\u001b[0;34m]\u001b[0m\u001b[0;34m)\u001b[0m\u001b[0;34m\u001b[0m\u001b[0m\n",
      "\u001b[0;32m~/anaconda3/envs/pytorch/lib/python3.6/site-packages/pandas/io/parsers.py\u001b[0m in \u001b[0;36mparser_f\u001b[0;34m(filepath_or_buffer, sep, delimiter, header, names, index_col, usecols, squeeze, prefix, mangle_dupe_cols, dtype, engine, converters, true_values, false_values, skipinitialspace, skiprows, nrows, na_values, keep_default_na, na_filter, verbose, skip_blank_lines, parse_dates, infer_datetime_format, keep_date_col, date_parser, dayfirst, iterator, chunksize, compression, thousands, decimal, lineterminator, quotechar, quoting, escapechar, comment, encoding, dialect, tupleize_cols, error_bad_lines, warn_bad_lines, skipfooter, skip_footer, doublequote, delim_whitespace, as_recarray, compact_ints, use_unsigned, low_memory, buffer_lines, memory_map, float_precision)\u001b[0m\n\u001b[1;32m    653\u001b[0m                     skip_blank_lines=skip_blank_lines)\n\u001b[1;32m    654\u001b[0m \u001b[0;34m\u001b[0m\u001b[0m\n\u001b[0;32m--> 655\u001b[0;31m         \u001b[0;32mreturn\u001b[0m \u001b[0m_read\u001b[0m\u001b[0;34m(\u001b[0m\u001b[0mfilepath_or_buffer\u001b[0m\u001b[0;34m,\u001b[0m \u001b[0mkwds\u001b[0m\u001b[0;34m)\u001b[0m\u001b[0;34m\u001b[0m\u001b[0m\n\u001b[0m\u001b[1;32m    656\u001b[0m \u001b[0;34m\u001b[0m\u001b[0m\n\u001b[1;32m    657\u001b[0m     \u001b[0mparser_f\u001b[0m\u001b[0;34m.\u001b[0m\u001b[0m__name__\u001b[0m \u001b[0;34m=\u001b[0m \u001b[0mname\u001b[0m\u001b[0;34m\u001b[0m\u001b[0m\n",
      "\u001b[0;32m~/anaconda3/envs/pytorch/lib/python3.6/site-packages/pandas/io/parsers.py\u001b[0m in \u001b[0;36m_read\u001b[0;34m(filepath_or_buffer, kwds)\u001b[0m\n\u001b[1;32m    409\u001b[0m \u001b[0;34m\u001b[0m\u001b[0m\n\u001b[1;32m    410\u001b[0m     \u001b[0;32mtry\u001b[0m\u001b[0;34m:\u001b[0m\u001b[0;34m\u001b[0m\u001b[0m\n\u001b[0;32m--> 411\u001b[0;31m         \u001b[0mdata\u001b[0m \u001b[0;34m=\u001b[0m \u001b[0mparser\u001b[0m\u001b[0;34m.\u001b[0m\u001b[0mread\u001b[0m\u001b[0;34m(\u001b[0m\u001b[0mnrows\u001b[0m\u001b[0;34m)\u001b[0m\u001b[0;34m\u001b[0m\u001b[0m\n\u001b[0m\u001b[1;32m    412\u001b[0m     \u001b[0;32mfinally\u001b[0m\u001b[0;34m:\u001b[0m\u001b[0;34m\u001b[0m\u001b[0m\n\u001b[1;32m    413\u001b[0m         \u001b[0mparser\u001b[0m\u001b[0;34m.\u001b[0m\u001b[0mclose\u001b[0m\u001b[0;34m(\u001b[0m\u001b[0;34m)\u001b[0m\u001b[0;34m\u001b[0m\u001b[0m\n",
      "\u001b[0;32m~/anaconda3/envs/pytorch/lib/python3.6/site-packages/pandas/io/parsers.py\u001b[0m in \u001b[0;36mread\u001b[0;34m(self, nrows)\u001b[0m\n\u001b[1;32m   1003\u001b[0m                 \u001b[0;32mraise\u001b[0m \u001b[0mValueError\u001b[0m\u001b[0;34m(\u001b[0m\u001b[0;34m'skipfooter not supported for iteration'\u001b[0m\u001b[0;34m)\u001b[0m\u001b[0;34m\u001b[0m\u001b[0m\n\u001b[1;32m   1004\u001b[0m \u001b[0;34m\u001b[0m\u001b[0m\n\u001b[0;32m-> 1005\u001b[0;31m         \u001b[0mret\u001b[0m \u001b[0;34m=\u001b[0m \u001b[0mself\u001b[0m\u001b[0;34m.\u001b[0m\u001b[0m_engine\u001b[0m\u001b[0;34m.\u001b[0m\u001b[0mread\u001b[0m\u001b[0;34m(\u001b[0m\u001b[0mnrows\u001b[0m\u001b[0;34m)\u001b[0m\u001b[0;34m\u001b[0m\u001b[0m\n\u001b[0m\u001b[1;32m   1006\u001b[0m \u001b[0;34m\u001b[0m\u001b[0m\n\u001b[1;32m   1007\u001b[0m         \u001b[0;32mif\u001b[0m \u001b[0mself\u001b[0m\u001b[0;34m.\u001b[0m\u001b[0moptions\u001b[0m\u001b[0;34m.\u001b[0m\u001b[0mget\u001b[0m\u001b[0;34m(\u001b[0m\u001b[0;34m'as_recarray'\u001b[0m\u001b[0;34m)\u001b[0m\u001b[0;34m:\u001b[0m\u001b[0;34m\u001b[0m\u001b[0m\n",
      "\u001b[0;32m~/anaconda3/envs/pytorch/lib/python3.6/site-packages/pandas/io/parsers.py\u001b[0m in \u001b[0;36mread\u001b[0;34m(self, nrows)\u001b[0m\n\u001b[1;32m   1746\u001b[0m     \u001b[0;32mdef\u001b[0m \u001b[0mread\u001b[0m\u001b[0;34m(\u001b[0m\u001b[0mself\u001b[0m\u001b[0;34m,\u001b[0m \u001b[0mnrows\u001b[0m\u001b[0;34m=\u001b[0m\u001b[0;32mNone\u001b[0m\u001b[0;34m)\u001b[0m\u001b[0;34m:\u001b[0m\u001b[0;34m\u001b[0m\u001b[0m\n\u001b[1;32m   1747\u001b[0m         \u001b[0;32mtry\u001b[0m\u001b[0;34m:\u001b[0m\u001b[0;34m\u001b[0m\u001b[0m\n\u001b[0;32m-> 1748\u001b[0;31m             \u001b[0mdata\u001b[0m \u001b[0;34m=\u001b[0m \u001b[0mself\u001b[0m\u001b[0;34m.\u001b[0m\u001b[0m_reader\u001b[0m\u001b[0;34m.\u001b[0m\u001b[0mread\u001b[0m\u001b[0;34m(\u001b[0m\u001b[0mnrows\u001b[0m\u001b[0;34m)\u001b[0m\u001b[0;34m\u001b[0m\u001b[0m\n\u001b[0m\u001b[1;32m   1749\u001b[0m         \u001b[0;32mexcept\u001b[0m \u001b[0mStopIteration\u001b[0m\u001b[0;34m:\u001b[0m\u001b[0;34m\u001b[0m\u001b[0m\n\u001b[1;32m   1750\u001b[0m             \u001b[0;32mif\u001b[0m \u001b[0mself\u001b[0m\u001b[0;34m.\u001b[0m\u001b[0m_first_chunk\u001b[0m\u001b[0;34m:\u001b[0m\u001b[0;34m\u001b[0m\u001b[0m\n",
      "\u001b[0;32mpandas/_libs/parsers.pyx\u001b[0m in \u001b[0;36mpandas._libs.parsers.TextReader.read (pandas/_libs/parsers.c:10862)\u001b[0;34m()\u001b[0m\n",
      "\u001b[0;32mpandas/_libs/parsers.pyx\u001b[0m in \u001b[0;36mpandas._libs.parsers.TextReader._read_low_memory (pandas/_libs/parsers.c:11138)\u001b[0;34m()\u001b[0m\n",
      "\u001b[0;32mpandas/_libs/parsers.pyx\u001b[0m in \u001b[0;36mpandas._libs.parsers.TextReader._read_rows (pandas/_libs/parsers.c:12175)\u001b[0;34m()\u001b[0m\n",
      "\u001b[0;32mpandas/_libs/parsers.pyx\u001b[0m in \u001b[0;36mpandas._libs.parsers.TextReader._convert_column_data (pandas/_libs/parsers.c:14136)\u001b[0;34m()\u001b[0m\n",
      "\u001b[0;32mpandas/_libs/parsers.pyx\u001b[0m in \u001b[0;36mpandas._libs.parsers.TextReader._convert_tokens (pandas/_libs/parsers.c:14858)\u001b[0;34m()\u001b[0m\n",
      "\u001b[0;32mpandas/_libs/parsers.pyx\u001b[0m in \u001b[0;36mpandas._libs.parsers.TextReader._convert_with_dtype (pandas/_libs/parsers.c:15629)\u001b[0;34m()\u001b[0m\n",
      "\u001b[0;32m~/anaconda3/envs/pytorch/lib/python3.6/site-packages/pandas/core/dtypes/common.py\u001b[0m in \u001b[0;36mis_integer_dtype\u001b[0;34m(arr_or_dtype)\u001b[0m\n\u001b[1;32m    738\u001b[0m \u001b[0;34m\u001b[0m\u001b[0m\n\u001b[1;32m    739\u001b[0m \u001b[0;34m\u001b[0m\u001b[0m\n\u001b[0;32m--> 740\u001b[0;31m \u001b[0;32mdef\u001b[0m \u001b[0mis_integer_dtype\u001b[0m\u001b[0;34m(\u001b[0m\u001b[0marr_or_dtype\u001b[0m\u001b[0;34m)\u001b[0m\u001b[0;34m:\u001b[0m\u001b[0;34m\u001b[0m\u001b[0m\n\u001b[0m\u001b[1;32m    741\u001b[0m     \"\"\"\n\u001b[1;32m    742\u001b[0m     \u001b[0mCheck\u001b[0m \u001b[0mwhether\u001b[0m \u001b[0mthe\u001b[0m \u001b[0mprovided\u001b[0m \u001b[0marray\u001b[0m \u001b[0;32mor\u001b[0m \u001b[0mdtype\u001b[0m \u001b[0;32mis\u001b[0m \u001b[0mof\u001b[0m \u001b[0man\u001b[0m \u001b[0minteger\u001b[0m \u001b[0mdtype\u001b[0m\u001b[0;34m.\u001b[0m\u001b[0;34m\u001b[0m\u001b[0m\n",
      "\u001b[0;31mKeyboardInterrupt\u001b[0m: "
     ]
    }
   ],
   "source": [
    "import pandas as pd\n",
    "import numpy as np\n",
    "from pathlib import Path\n",
    "\n",
    "PATH_HOME = Path.home()\n",
    "PATH_PROJ = PATH_HOME/'pyGRU4REC' \n",
    "PATH_DATA = PATH_PROJ/'data'\n",
    "PATH_MODEL = PATH_PROJ/'models'\n",
    "train = 'train.tsv'\n",
    "test = 'test.tsv'\n",
    "PATH_TRAIN = PATH_DATA / train\n",
    "PATH_TEST = PATH_DATA / test\n",
    "\n",
    "df_train = pd.read_csv(PATH_TRAIN, sep='\\t', names=['SessionId','ItemId','TimeStamp'])\n",
    "df_test = pd.read_csv(PATH_TEST, sep='\\t', names=['SessionId','ItemId', 'TimeStamp'])"
   ]
  },
  {
   "cell_type": "markdown",
   "metadata": {},
   "source": [
    "# Train"
   ]
  },
  {
   "cell_type": "code",
   "execution_count": null,
   "metadata": {
    "ExecuteTime": {
     "end_time": "2018-02-27T05:29:50.087721Z",
     "start_time": "2018-02-27T05:29:37.345345Z"
    }
   },
   "outputs": [],
   "source": [
    "from modules.model import GRU4REC\n",
    "import torch\n",
    "\n",
    "session_key = 'SessionId'\n",
    "item_key = 'ItemId'\n",
    "time_key = 'TimeStamp'\n",
    "\n",
    "input_size = df_train[item_key].nunique()\n",
    "hidden_size = 100\n",
    "num_layers = 1\n",
    "output_size = input_size\n",
    "batch_size = 50\n",
    "dropout_input = 0\n",
    "dropout_hidden = .5\n",
    "\n",
    "optimizer_type = 'Adagrad'\n",
    "lr = .01\n",
    "weight_decay = 0\n",
    "momentum = 0\n",
    "eps = 1e-6\n",
    "\n",
    "loss_type = 'TOP1'\n",
    "\n",
    "n_epochs = 10\n",
    "time_sort = False\n",
    "n_samples = -1 # if -1, use all samples\n",
    "n_samples = 10000\n",
    "use_cuda = True\n",
    "\n",
    "torch.manual_seed(7)\n",
    "torch.cuda.manual_seed(7)\n",
    "\n",
    "train_data = df_train[:n_samples] if n_samples != -1 else df_train\n",
    "\n",
    "model = GRU4REC(input_size, hidden_size, output_size,\n",
    "                num_layers=num_layers,\n",
    "                batch_size=batch_size,\n",
    "                dropout_input=dropout_input,\n",
    "                dropout_hidden=dropout_hidden,\n",
    "                optimizer_type=optimizer_type,\n",
    "                lr=lr,\n",
    "                weight_decay=weight_decay,\n",
    "                momentum=momentum,\n",
    "                eps=eps,\n",
    "                loss_type=loss_type,\n",
    "                time_sort=time_sort,\n",
    "                use_cuda=use_cuda)\n",
    "\n",
    "model.init_data(train_data, df_test, session_key, time_key, item_key)\n",
    "model_name = 'GRU4REC_TEST'\n",
    "model.train(n_epochs=n_epochs, model_name=model_name, save_dir=PATH_MODEL)"
   ]
  },
  {
   "cell_type": "markdown",
   "metadata": {},
   "source": [
    "## Evaluate using the trained models"
   ]
  },
  {
   "cell_type": "code",
   "execution_count": 17,
   "metadata": {
    "ExecuteTime": {
     "end_time": "2018-02-27T05:44:13.202111Z",
     "start_time": "2018-02-27T05:44:05.731675Z"
    },
    "collapsed": true
   },
   "outputs": [],
   "source": [
    "from pathlib import Path\n",
    "import pandas as pd\n",
    "import numpy as np\n",
    "from modules.layer import GRU\n",
    "from modules.model import GRU4REC\n",
    "import torch\n",
    "\n",
    "PATH_HOME = Path.home()\n",
    "PATH_PROJ = PATH_HOME/'pyGRU4REC' \n",
    "PATH_DATA = PATH_PROJ/'data'\n",
    "PATH_MODEL = PATH_PROJ/'models'\n",
    "train = 'train.tsv'\n",
    "test = 'test.tsv'\n",
    "PATH_TRAIN = PATH_DATA / train\n",
    "PATH_TEST = PATH_DATA / test\n",
    "\n",
    "session_key = 'SessionId'\n",
    "time_key = 'Time'\n",
    "item_key = 'ItemId'\n",
    "\n",
    "df_train = pd.read_csv(PATH_TRAIN, sep='\\t', names=['SessionId','ItemId', 'Time'])\n",
    "df_test = pd.read_csv(PATH_TEST, sep='\\t', names=['SessionId','ItemId', 'Time'])"
   ]
  },
  {
   "cell_type": "markdown",
   "metadata": {},
   "source": [
    "## 1.Load the Common Parameters"
   ]
  },
  {
   "cell_type": "code",
   "execution_count": 18,
   "metadata": {
    "ExecuteTime": {
     "end_time": "2018-02-27T05:44:13.441073Z",
     "start_time": "2018-02-27T05:44:13.316621Z"
    },
    "collapsed": true
   },
   "outputs": [],
   "source": [
    "input_size = df_train[item_key].nunique()\n",
    "output_size = input_size\n",
    "hidden_size = 100\n",
    "num_layers = 1\n",
    "\n",
    "use_cuda = True\n",
    "time_sort = False\n",
    "\n",
    "optimizer_type = 'Adagrad'"
   ]
  },
  {
   "cell_type": "markdown",
   "metadata": {},
   "source": [
    "## 2. Evaluation(TOP1 Loss)"
   ]
  },
  {
   "cell_type": "code",
   "execution_count": 19,
   "metadata": {
    "ExecuteTime": {
     "end_time": "2018-02-27T05:44:37.682098Z",
     "start_time": "2018-02-27T05:44:13.554749Z"
    }
   },
   "outputs": [
    {
     "name": "stdout",
     "output_type": "stream",
     "text": [
      "Switching into Testing mode.\n",
      "Switching into Training mode.\n",
      "Recall@20:0.6171223,MRR@20:0.2565030\n"
     ]
    }
   ],
   "source": [
    "model_name = 'GRU4REC_TOP1_Adagrad_0.01_epoch10'\n",
    "model_file = PATH_MODEL/model_name\n",
    "\n",
    "loss_type = 'TOP1'\n",
    "lr = 0.01\n",
    "\n",
    "dropout_hidden = .5\n",
    "dropout_input = 0\n",
    "batch_size = 50\n",
    "momentum = 0\n",
    "\n",
    "gru = GRU(input_size, hidden_size, output_size,\n",
    "          num_layers = num_layers,\n",
    "          dropout_input = dropout_input,\n",
    "          dropout_hidden = dropout_hidden,\n",
    "          batch_size = batch_size,\n",
    "          use_cuda = use_cuda)\n",
    "\n",
    "gru.load_state_dict(torch.load(model_file))\n",
    "\n",
    "model = GRU4REC(input_size, hidden_size, output_size,\n",
    "                num_layers = num_layers,\n",
    "                dropout_input = dropout_input,\n",
    "                dropout_hidden = dropout_hidden,\n",
    "                batch_size = batch_size,\n",
    "                use_cuda = use_cuda,\n",
    "                loss_type = loss_type,\n",
    "                optimizer_type = optimizer_type,\n",
    "                lr=lr,\n",
    "                momentum=momentum,\n",
    "                time_sort=time_sort,\n",
    "                pretrained=gru)\n",
    "\n",
    "model.init_data(df_train, df_test, session_key=session_key, time_key=time_key, item_key=item_key)\n",
    "\n",
    "k = 20\n",
    "recall, mrr = model.test(k = k, batch_size = batch_size)\n",
    "result = f'Recall@{k}:{recall:.7f},MRR@{k}:{mrr:.7f}'\n",
    "print(result)"
   ]
  },
  {
   "cell_type": "markdown",
   "metadata": {},
   "source": [
    "## 3. Evaluation(BPR Loss)"
   ]
  },
  {
   "cell_type": "code",
   "execution_count": 20,
   "metadata": {
    "ExecuteTime": {
     "end_time": "2018-02-27T05:45:07.462461Z",
     "start_time": "2018-02-27T05:44:44.114846Z"
    }
   },
   "outputs": [
    {
     "name": "stdout",
     "output_type": "stream",
     "text": [
      "Switching into Testing mode.\n",
      "Switching into Training mode.\n",
      "Recall@20:0.5984532,MRR@20:0.2378255\n"
     ]
    }
   ],
   "source": [
    "model_name = 'GRU4REC_BPR_Adagrad_0.05_epoch10'\n",
    "model_file = PATH_MODEL/model_name\n",
    "\n",
    "loss_type = 'BPR'\n",
    "lr = 0.05\n",
    "\n",
    "dropout_hidden = .2\n",
    "dropout_input = 0\n",
    "batch_size = 50\n",
    "momentum = 0.2\n",
    "\n",
    "gru = GRU(input_size, hidden_size, output_size,\n",
    "          num_layers = num_layers,\n",
    "          dropout_input = dropout_input,\n",
    "          dropout_hidden = dropout_hidden,\n",
    "          batch_size = batch_size,\n",
    "          use_cuda = use_cuda)\n",
    "\n",
    "gru.load_state_dict(torch.load(model_file))\n",
    "\n",
    "model = GRU4REC(input_size, hidden_size, output_size,\n",
    "                num_layers = num_layers,\n",
    "                dropout_input = dropout_input,\n",
    "                dropout_hidden = dropout_hidden,\n",
    "                batch_size = batch_size,\n",
    "                use_cuda = use_cuda,\n",
    "                loss_type = loss_type,\n",
    "                optimizer_type = optimizer_type,\n",
    "                lr=lr,\n",
    "                momentum=momentum,\n",
    "                time_sort=time_sort,\n",
    "                pretrained=gru)\n",
    "\n",
    "model.init_data(df_train, df_test, session_key=session_key, time_key=time_key, item_key=item_key)\n",
    "\n",
    "k = 20\n",
    "recall, mrr = model.test(k = k, batch_size = batch_size)\n",
    "result = f'Recall@{k}:{recall:.7f},MRR@{k}:{mrr:.7f}'\n",
    "print(result)"
   ]
  },
  {
   "cell_type": "markdown",
   "metadata": {},
   "source": [
    "## 4. Evaluation(CrossEntropyLoss)"
   ]
  },
  {
   "cell_type": "code",
   "execution_count": 21,
   "metadata": {
    "ExecuteTime": {
     "end_time": "2018-02-27T05:45:31.967864Z",
     "start_time": "2018-02-27T05:45:10.011355Z"
    }
   },
   "outputs": [
    {
     "name": "stdout",
     "output_type": "stream",
     "text": [
      "Switching into Testing mode.\n",
      "Switching into Training mode.\n",
      "Recall@20:0.6271887,MRR@20:0.2570316\n"
     ]
    }
   ],
   "source": [
    "model_name = 'GRU4REC_CrossEntropy_Adagrad_0.01_epoch10'\n",
    "model_file = PATH_MODEL/model_name\n",
    "\n",
    "loss_type = 'CrossEntropy'\n",
    "lr = 0.01\n",
    "\n",
    "dropout_hidden = 0\n",
    "dropout_input = 0\n",
    "batch_size = 500\n",
    "momentum = 0\n",
    "\n",
    "gru = GRU(input_size, hidden_size, output_size,\n",
    "          num_layers = num_layers,\n",
    "          dropout_input = dropout_input,\n",
    "          dropout_hidden = dropout_hidden,\n",
    "          batch_size = batch_size,\n",
    "          use_cuda = use_cuda)\n",
    "\n",
    "gru.load_state_dict(torch.load(model_file))\n",
    "\n",
    "model = GRU4REC(input_size, hidden_size, output_size,\n",
    "                num_layers = num_layers,\n",
    "                dropout_input = dropout_input,\n",
    "                dropout_hidden = dropout_hidden,\n",
    "                batch_size = batch_size,\n",
    "                use_cuda = use_cuda,\n",
    "                loss_type = loss_type,\n",
    "                optimizer_type = optimizer_type,\n",
    "                lr=lr,\n",
    "                momentum=momentum,\n",
    "                time_sort=time_sort,\n",
    "                pretrained=gru)\n",
    "\n",
    "model.init_data(df_train, df_test, session_key=session_key, time_key=time_key, item_key=item_key)\n",
    "\n",
    "k = 20\n",
    "recall, mrr = model.test(k = k, batch_size = batch_size)\n",
    "result = f'Recall@{k}:{recall:.7f},MRR@{k}:{mrr:.7f}'\n",
    "print(result)"
   ]
  }
 ],
 "metadata": {
  "kernelspec": {
   "display_name": "Python 3",
   "language": "python",
   "name": "python3"
  },
  "language_info": {
   "codemirror_mode": {
    "name": "ipython",
    "version": 3
   },
   "file_extension": ".py",
   "mimetype": "text/x-python",
   "name": "python",
   "nbconvert_exporter": "python",
   "pygments_lexer": "ipython3",
   "version": "3.6.3"
  },
  "latex_envs": {
   "LaTeX_envs_menu_present": true,
   "autoclose": false,
   "autocomplete": true,
   "bibliofile": "biblio.bib",
   "cite_by": "apalike",
   "current_citInitial": 1,
   "eqLabelWithNumbers": true,
   "eqNumInitial": 1,
   "hotkeys": {
    "equation": "Ctrl-E",
    "itemize": "Ctrl-I"
   },
   "labels_anchors": false,
   "latex_user_defs": false,
   "report_style_numbering": false,
   "user_envs_cfg": false
  },
  "varInspector": {
   "cols": {
    "lenName": 16,
    "lenType": 16,
    "lenVar": 40
   },
   "kernels_config": {
    "python": {
     "delete_cmd_postfix": "",
     "delete_cmd_prefix": "del ",
     "library": "var_list.py",
     "varRefreshCmd": "print(var_dic_list())"
    },
    "r": {
     "delete_cmd_postfix": ") ",
     "delete_cmd_prefix": "rm(",
     "library": "var_list.r",
     "varRefreshCmd": "cat(var_dic_list()) "
    }
   },
   "position": {
    "height": "761px",
    "left": "1497px",
    "right": "20px",
    "top": "121px",
    "width": "354px"
   },
   "types_to_exclude": [
    "module",
    "function",
    "builtin_function_or_method",
    "instance",
    "_Feature"
   ],
   "window_display": false
  }
 },
 "nbformat": 4,
 "nbformat_minor": 2
}
