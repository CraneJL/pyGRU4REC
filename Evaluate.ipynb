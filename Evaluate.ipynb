{
 "cells": [
  {
   "cell_type": "code",
   "execution_count": 19,
   "metadata": {
    "ExecuteTime": {
     "end_time": "2018-02-05T09:31:37.028594Z",
     "start_time": "2018-02-05T09:31:29.625841Z"
    },
    "collapsed": true
   },
   "outputs": [],
   "source": [
    "import pickle\n",
    "from pathlib import Path\n",
    "import pandas as pd\n",
    "import numpy as np\n",
    "\n",
    "model_root = Path('./models')\n",
    "model_name = 'GRU4REC_TOP1_Adagrad_0.05_epoch1'\n",
    "model_file = model_root/model_name\n",
    "\n",
    "dataset_root = Path('../sess-rec-large')\n",
    "train = 'rsc15_train_full.txt'\n",
    "test = 'rsc15_test.txt'\n",
    "PATH_TO_TRAIN = dataset_root / train\n",
    "PATH_TO_TEST = dataset_root / test\n",
    "\n",
    "session_key = 'SessionId'\n",
    "time_key = 'Time'\n",
    "item_key = 'ItemId'\n",
    "\n",
    "df_train = pd.read_csv(PATH_TO_TRAIN, sep='\\t', dtype={'ItemId': np.int64})\n",
    "df_test = pd.read_csv(PATH_TO_TEST, sep='\\t', dtype={'ItemId': np.int64})"
   ]
  },
  {
   "cell_type": "code",
   "execution_count": 20,
   "metadata": {
    "ExecuteTime": {
     "end_time": "2018-02-05T09:31:42.878857Z",
     "start_time": "2018-02-05T09:31:40.337758Z"
    }
   },
   "outputs": [
    {
     "name": "stdout",
     "output_type": "stream",
     "text": [
      "Switching into Testing mode.\n",
      "Switching into Training mode.\n",
      "Recall@20:0.4141547,MRR@20:0.0357396\n"
     ]
    }
   ],
   "source": [
    "from modules.layer import GRU\n",
    "from modules.model import GRU4REC\n",
    "import torch\n",
    "\n",
    "input_size = df_train[item_key].nunique()\n",
    "output_size = input_size\n",
    "hidden_size = 100\n",
    "num_layers = 1\n",
    "use_cuda = True\n",
    "time_sort = False\n",
    "\n",
    "dropout_hidden = .5\n",
    "dropout_input = 0\n",
    "batch_size = 50\n",
    "\n",
    "gru = GRU(input_size, hidden_size, output_size,\n",
    "          num_layers = num_layers,\n",
    "          dropout_input = dropout_input,\n",
    "          dropout_hidden = dropout_hidden,\n",
    "          batch_size = batch_size,\n",
    "          use_cuda = use_cuda)\n",
    "\n",
    "gru.load_state_dict(torch.load(model_file))\n",
    "\n",
    "model = GRU4REC(input_size, hidden_size, output_size,\n",
    "                num_layers = num_layers,\n",
    "                dropout_input = 0, dropout_hidden = dropout_hidden,\n",
    "                batch_size = batch_size,\n",
    "                use_cuda = use_cuda,\n",
    "                loss_type = 'TOP1', optimizer_type = 'Adagrad', lr=.05,\n",
    "                time_sort = time_sort,\n",
    "                pretrained = gru)\n",
    "\n",
    "k = 20\n",
    "recall, mrr = model.test(df_train, df_test, session_key,\n",
    "                         time_key, item_key,\n",
    "                         k = k, batch_size = 50)\n",
    "result = f'Recall@{k}:{recall:.7f},MRR@{k}:{mrr:.7f}'\n",
    "print(result)"
   ]
  },
  {
   "cell_type": "code",
   "execution_count": null,
   "metadata": {
    "collapsed": true
   },
   "outputs": [],
   "source": [
    "# from pathlib import Path\n",
    "\n",
    "# def save(model, PATH_TO_MODELS: str,  epoch: int):\n",
    "#     '''\n",
    "#     Args:\n",
    "#         PATH_TO_MODELS: directory to store the models and the results\n",
    "#         model: PyTorch model to save the parameters from\n",
    "#         model_name (str): name of the model\n",
    "#         epoch: index of the epoch\n",
    "#     '''\n",
    "\n",
    "\n",
    "#     if not PATH_TO_MODELS.exists():\n",
    "#         PATH_TO_MODELS.mkdir()\n",
    "\n",
    "#     subdirs = list(PATH_TO_MODELS.iterdir())\n",
    "#     next_dir = str(int(max(subdirs).stem)+1) if len(subdirs)>0 else str(0)\n",
    "#     next_dir = PATH_TO_MODELS/next_dir\n",
    "\n",
    "#     PATH_ARGS = next_dir/'arguments.txt'\n",
    "#     with open(PATH_ARGS, 'w') as f:\n",
    "#         s = f'input_size:{input_size}\\n'\n",
    "#         s += f'output_size:{output_size}\\n'\n",
    "#         s += f'hidden_size:{hidden_size}\\n'\n",
    "#         s += f'num_layers:{num_layers}\\n'\n",
    "#         s += f'use_cuda:{use_cuda}\\n'\n",
    "#         s += f'time_sort:{time_sort}\\n'\n",
    "#         s += f'dropout_hidden:{dropout_hidden}\\n'\n",
    "#         s += f'dropout_input:{dropout_input}\\n'\n",
    "#         s += f'batch_size:{batch_size}'\n",
    "#         f.write(s)\n",
    "\n",
    "#     PATH_MODEL = next_dir/f'GRU4REC_epoch{epoch:d}'"
   ]
  }
 ],
 "metadata": {
  "kernelspec": {
   "display_name": "Python 3",
   "language": "python",
   "name": "python3"
  },
  "language_info": {
   "codemirror_mode": {
    "name": "ipython",
    "version": 3
   },
   "file_extension": ".py",
   "mimetype": "text/x-python",
   "name": "python",
   "nbconvert_exporter": "python",
   "pygments_lexer": "ipython3",
   "version": "3.6.3"
  },
  "varInspector": {
   "cols": {
    "lenName": 16,
    "lenType": 16,
    "lenVar": 40
   },
   "kernels_config": {
    "python": {
     "delete_cmd_postfix": "",
     "delete_cmd_prefix": "del ",
     "library": "var_list.py",
     "varRefreshCmd": "print(var_dic_list())"
    },
    "r": {
     "delete_cmd_postfix": ") ",
     "delete_cmd_prefix": "rm(",
     "library": "var_list.r",
     "varRefreshCmd": "cat(var_dic_list()) "
    }
   },
   "position": {
    "height": "706px",
    "left": "1497px",
    "right": "20px",
    "top": "120px",
    "width": "350px"
   },
   "types_to_exclude": [
    "module",
    "function",
    "builtin_function_or_method",
    "instance",
    "_Feature"
   ],
   "window_display": false
  }
 },
 "nbformat": 4,
 "nbformat_minor": 2
}
