{
 "cells": [
  {
   "cell_type": "markdown",
   "metadata": {},
   "source": [
    "# ToDo\n",
    "- [x] Session-parallel mini-batch generation, where each session lengths is tracked\n",
    "- [ ] (Optional) Add input connections to multiple GRU layers\n",
    "- [x] Make the Loss Function Compatible with the Session-parallel mini-batch generation step\n",
    "- [x] Output Sampling\n",
    "- [x] Test Code(making predictions)\n",
    "- [x] Check Loss Function\n",
    "- [x] Check Optimizer\n",
    "- [x] Check GRU layer\n",
    "- [x] Check Evaluation code"
   ]
  },
  {
   "cell_type": "code",
   "execution_count": null,
   "metadata": {
    "ExecuteTime": {
     "end_time": "2018-02-05T13:36:41.084528Z",
     "start_time": "2018-02-05T13:36:33.461304Z"
    },
    "collapsed": true
   },
   "outputs": [],
   "source": [
    "import pandas as pd\n",
    "import numpy as np\n",
    "from pathlib import Path\n",
    "\n",
    "dataset_root = Path('../sess-rec-large')\n",
    "train = 'rsc15_train_full.txt'\n",
    "test = 'rsc15_test.txt'\n",
    "PATH_TO_TRAIN = dataset_root / train\n",
    "PATH_TO_TEST = dataset_root / test\n",
    "\n",
    "df_train = pd.read_csv(PATH_TO_TRAIN, sep='\\t', dtype={'ItemId': np.int64})\n",
    "df_test = pd.read_csv(PATH_TO_TEST, sep='\\t', dtype={'ItemId': np.int64})"
   ]
  },
  {
   "cell_type": "markdown",
   "metadata": {},
   "source": [
    "# Train"
   ]
  },
  {
   "cell_type": "code",
   "execution_count": null,
   "metadata": {
    "ExecuteTime": {
     "end_time": "2018-02-05T13:42:17.216138Z",
     "start_time": "2018-02-05T13:40:57.622900Z"
    },
    "code_folding": [],
    "collapsed": true
   },
   "outputs": [],
   "source": [
    "from modules.model import GRU4REC\n",
    "import torch\n",
    "\n",
    "session_key = 'SessionId'\n",
    "time_key = 'Time'\n",
    "item_key = 'ItemId'\n",
    "\n",
    "input_size = df_train[item_key].nunique()\n",
    "output_size = input_size\n",
    "hidden_size = 100\n",
    "num_layers = 1\n",
    "use_cuda = True\n",
    "time_sort = False\n",
    "\n",
    "dropout_hidden = .5\n",
    "dropout_input = 0\n",
    "batch_size = 50\n",
    "\n",
    "torch.manual_seed(7)\n",
    "torch.cuda.manual_seed(7)\n",
    "\n",
    "model = GRU4REC(input_size, hidden_size, output_size,\n",
    "                num_layers = num_layers,\n",
    "                dropout_input = 0, dropout_hidden = dropout_hidden,\n",
    "                batch_size = batch_size,\n",
    "                use_cuda = use_cuda,\n",
    "                loss_type = 'TOP1', optimizer_type = 'Adagrad', lr=.01,\n",
    "                time_sort = time_sort)\n",
    "\n",
    "model.train(df_train, session_key, time_key, item_key, n_epochs = 10)"
   ]
  },
  {
   "cell_type": "markdown",
   "metadata": {},
   "source": [
    "# Evaluate"
   ]
  },
  {
   "cell_type": "code",
   "execution_count": null,
   "metadata": {
    "collapsed": true
   },
   "outputs": [],
   "source": [
    "import pickle\n",
    "from pathlib import Path\n",
    "import pandas as pd\n",
    "import numpy as np\n",
    "\n",
    "model_root = Path('./models')\n",
    "model_name = 'GRU4REC_TOP1_Adagrad_0.05_epoch1'\n",
    "model_file = model_root/model_name\n",
    "\n",
    "dataset_root = Path('../sess-rec-large')\n",
    "train = 'rsc15_train_full.txt'\n",
    "test = 'rsc15_test.txt'\n",
    "PATH_TO_TRAIN = dataset_root / train\n",
    "PATH_TO_TEST = dataset_root / test\n",
    "\n",
    "session_key = 'SessionId'\n",
    "time_key = 'Time'\n",
    "item_key = 'ItemId'\n",
    "\n",
    "df_train = pd.read_csv(PATH_TO_TRAIN, sep='\\t', dtype={'ItemId': np.int64})\n",
    "df_test = pd.read_csv(PATH_TO_TEST, sep='\\t', dtype={'ItemId': np.int64})"
   ]
  },
  {
   "cell_type": "code",
   "execution_count": null,
   "metadata": {
    "collapsed": true
   },
   "outputs": [],
   "source": [
    "from modules.layer import GRU\n",
    "from modules.model import GRU4REC\n",
    "import torch\n",
    "\n",
    "input_size = df_train[item_key].nunique()\n",
    "output_size = input_size\n",
    "hidden_size = 100\n",
    "num_layers = 1\n",
    "use_cuda = True\n",
    "time_sort = False\n",
    "\n",
    "dropout_hidden = .5\n",
    "dropout_input = 0\n",
    "batch_size = 50\n",
    "\n",
    "gru = GRU(input_size, hidden_size, output_size,\n",
    "          num_layers = num_layers,\n",
    "          dropout_input = dropout_input,\n",
    "          dropout_hidden = dropout_hidden,\n",
    "          batch_size = batch_size,\n",
    "          use_cuda = use_cuda)\n",
    "\n",
    "gru.load_state_dict(torch.load(model_file))\n",
    "\n",
    "model = GRU4REC(input_size, hidden_size, output_size,\n",
    "                num_layers = num_layers,\n",
    "                dropout_input = 0, dropout_hidden = dropout_hidden,\n",
    "                batch_size = batch_size,\n",
    "                use_cuda = use_cuda,\n",
    "                loss_type = 'TOP1', optimizer_type = 'Adagrad', lr=.01,\n",
    "                time_sort = time_sort,\n",
    "                pretrained = gru)\n",
    "\n",
    "k = 20\n",
    "recall, mrr = model.test(df_train, df_test, session_key,\n",
    "                         time_key, item_key,\n",
    "                         k = k, batch_size = 50)\n",
    "result = f'Recall@{k}:{recall:.7f},MRR@{k}:{mrr:.7f}'\n",
    "print(result)"
   ]
  },
  {
   "cell_type": "code",
   "execution_count": 5,
   "metadata": {
    "ExecuteTime": {
     "end_time": "2018-02-06T01:12:34.057884Z",
     "start_time": "2018-02-06T01:12:23.354983Z"
    }
   },
   "outputs": [
    {
     "name": "stdout",
     "output_type": "stream",
     "text": [
      "Epoch: 1/Loss:0.994/TrainingTime:0.002(min)\n",
      "Epoch: 2/Loss:0.968/TrainingTime:0.000(min)\n",
      "Epoch: 3/Loss:0.955/TrainingTime:0.000(min)\n",
      "Epoch: 4/Loss:0.950/TrainingTime:0.000(min)\n",
      "Epoch: 5/Loss:0.947/TrainingTime:0.000(min)\n",
      "Epoch: 6/Loss:0.945/TrainingTime:0.000(min)\n",
      "Epoch: 7/Loss:0.944/TrainingTime:0.000(min)\n",
      "Epoch: 8/Loss:0.943/TrainingTime:0.001(min)\n",
      "Epoch: 9/Loss:0.943/TrainingTime:0.000(min)\n",
      "Epoch:10/Loss:0.943/TrainingTime:0.000(min)\n"
     ]
    }
   ],
   "source": [
    "!python run_train.py --n_samples 1000"
   ]
  }
 ],
 "metadata": {
  "kernelspec": {
   "display_name": "Python 3",
   "language": "python",
   "name": "python3"
  },
  "language_info": {
   "codemirror_mode": {
    "name": "ipython",
    "version": 3
   },
   "file_extension": ".py",
   "mimetype": "text/x-python",
   "name": "python",
   "nbconvert_exporter": "python",
   "pygments_lexer": "ipython3",
   "version": "3.6.3"
  },
  "varInspector": {
   "cols": {
    "lenName": 16,
    "lenType": 16,
    "lenVar": 40
   },
   "kernels_config": {
    "python": {
     "delete_cmd_postfix": "",
     "delete_cmd_prefix": "del ",
     "library": "var_list.py",
     "varRefreshCmd": "print(var_dic_list())"
    },
    "r": {
     "delete_cmd_postfix": ") ",
     "delete_cmd_prefix": "rm(",
     "library": "var_list.r",
     "varRefreshCmd": "cat(var_dic_list()) "
    }
   },
   "position": {
    "height": "761px",
    "left": "1497px",
    "right": "20px",
    "top": "121px",
    "width": "354px"
   },
   "types_to_exclude": [
    "module",
    "function",
    "builtin_function_or_method",
    "instance",
    "_Feature"
   ],
   "window_display": false
  }
 },
 "nbformat": 4,
 "nbformat_minor": 2
}
